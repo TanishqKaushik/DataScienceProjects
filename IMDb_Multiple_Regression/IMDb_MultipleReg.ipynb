{
  "cells": [
    {
      "cell_type": "markdown",
      "metadata": {
        "id": "KozTYCMnhdh0"
      },
      "source": [
        "# Multiple Regression- IMDb Dataset\n",
        "## by Tanishq Kaushik"
      ]
    },
    {
      "cell_type": "code",
      "execution_count": 1,
      "metadata": {
        "id": "2vPzttgsiopp"
      },
      "outputs": [],
      "source": [
        "# Importing the necessary libraries\n",
        "\n",
        "import pandas as pd\n",
        "import numpy as np\n",
        "import seaborn as sns\n",
        "from scipy import stats"
      ]
    },
    {
      "cell_type": "markdown",
      "metadata": {
        "id": "lEzBRANrjSXE"
      },
      "source": [
        "## Observing the Relationship between Ratings and Metascore  "
      ]
    },
    {
      "cell_type": "code",
      "execution_count": 4,
      "metadata": {
        "colab": {
          "base_uri": "https://localhost:8080/",
          "height": 438
        },
        "id": "dNj791_KgWbS",
        "outputId": "4e6da1f5-2f40-455d-bdb8-1d2db8c436cf"
      },
      "outputs": [
        {
          "data": {
            "text/html": [
              "<div>\n",
              "<style scoped>\n",
              "    .dataframe tbody tr th:only-of-type {\n",
              "        vertical-align: middle;\n",
              "    }\n",
              "\n",
              "    .dataframe tbody tr th {\n",
              "        vertical-align: top;\n",
              "    }\n",
              "\n",
              "    .dataframe thead th {\n",
              "        text-align: right;\n",
              "    }\n",
              "</style>\n",
              "<table border=\"1\" class=\"dataframe\">\n",
              "  <thead>\n",
              "    <tr style=\"text-align: right;\">\n",
              "      <th></th>\n",
              "      <th>Title</th>\n",
              "      <th>Year</th>\n",
              "      <th>Genres</th>\n",
              "      <th>Runtime</th>\n",
              "      <th>Rating</th>\n",
              "      <th>Metascore</th>\n",
              "      <th>Votes</th>\n",
              "      <th>Gross</th>\n",
              "      <th>Action</th>\n",
              "      <th>Adventure</th>\n",
              "      <th>...</th>\n",
              "      <th>Horror</th>\n",
              "      <th>Music</th>\n",
              "      <th>Musical</th>\n",
              "      <th>Mystery</th>\n",
              "      <th>Romance</th>\n",
              "      <th>Sci-Fi</th>\n",
              "      <th>Sport</th>\n",
              "      <th>Thriller</th>\n",
              "      <th>War</th>\n",
              "      <th>Western</th>\n",
              "    </tr>\n",
              "  </thead>\n",
              "  <tbody>\n",
              "    <tr>\n",
              "      <th>0</th>\n",
              "      <td>The Shawshank Redemption</td>\n",
              "      <td>1994.0</td>\n",
              "      <td>['Crime', 'Drama']</td>\n",
              "      <td>142.0</td>\n",
              "      <td>9.3</td>\n",
              "      <td>80.0</td>\n",
              "      <td>1695366.0</td>\n",
              "      <td>28340000.0</td>\n",
              "      <td>False</td>\n",
              "      <td>False</td>\n",
              "      <td>...</td>\n",
              "      <td>False</td>\n",
              "      <td>False</td>\n",
              "      <td>False</td>\n",
              "      <td>False</td>\n",
              "      <td>False</td>\n",
              "      <td>False</td>\n",
              "      <td>False</td>\n",
              "      <td>False</td>\n",
              "      <td>False</td>\n",
              "      <td>False</td>\n",
              "    </tr>\n",
              "    <tr>\n",
              "      <th>1</th>\n",
              "      <td>The Dark Knight</td>\n",
              "      <td>2008.0</td>\n",
              "      <td>['Action', 'Crime', 'Drama']</td>\n",
              "      <td>152.0</td>\n",
              "      <td>9.0</td>\n",
              "      <td>82.0</td>\n",
              "      <td>1682554.0</td>\n",
              "      <td>533320000.0</td>\n",
              "      <td>True</td>\n",
              "      <td>False</td>\n",
              "      <td>...</td>\n",
              "      <td>False</td>\n",
              "      <td>False</td>\n",
              "      <td>False</td>\n",
              "      <td>False</td>\n",
              "      <td>False</td>\n",
              "      <td>False</td>\n",
              "      <td>False</td>\n",
              "      <td>False</td>\n",
              "      <td>False</td>\n",
              "      <td>False</td>\n",
              "    </tr>\n",
              "    <tr>\n",
              "      <th>2</th>\n",
              "      <td>Inception</td>\n",
              "      <td>2010.0</td>\n",
              "      <td>['Action', 'Adventure', 'Sci-Fi']</td>\n",
              "      <td>148.0</td>\n",
              "      <td>8.8</td>\n",
              "      <td>74.0</td>\n",
              "      <td>1473753.0</td>\n",
              "      <td>292570000.0</td>\n",
              "      <td>True</td>\n",
              "      <td>True</td>\n",
              "      <td>...</td>\n",
              "      <td>False</td>\n",
              "      <td>False</td>\n",
              "      <td>False</td>\n",
              "      <td>False</td>\n",
              "      <td>False</td>\n",
              "      <td>True</td>\n",
              "      <td>False</td>\n",
              "      <td>False</td>\n",
              "      <td>False</td>\n",
              "      <td>False</td>\n",
              "    </tr>\n",
              "    <tr>\n",
              "      <th>3</th>\n",
              "      <td>Fight Club</td>\n",
              "      <td>1999.0</td>\n",
              "      <td>['Drama']</td>\n",
              "      <td>139.0</td>\n",
              "      <td>8.8</td>\n",
              "      <td>66.0</td>\n",
              "      <td>1352395.0</td>\n",
              "      <td>37020000.0</td>\n",
              "      <td>False</td>\n",
              "      <td>False</td>\n",
              "      <td>...</td>\n",
              "      <td>False</td>\n",
              "      <td>False</td>\n",
              "      <td>False</td>\n",
              "      <td>False</td>\n",
              "      <td>False</td>\n",
              "      <td>False</td>\n",
              "      <td>False</td>\n",
              "      <td>False</td>\n",
              "      <td>False</td>\n",
              "      <td>False</td>\n",
              "    </tr>\n",
              "    <tr>\n",
              "      <th>4</th>\n",
              "      <td>Pulp Fiction</td>\n",
              "      <td>1994.0</td>\n",
              "      <td>['Crime', 'Drama']</td>\n",
              "      <td>154.0</td>\n",
              "      <td>8.9</td>\n",
              "      <td>94.0</td>\n",
              "      <td>1329035.0</td>\n",
              "      <td>107930000.0</td>\n",
              "      <td>False</td>\n",
              "      <td>False</td>\n",
              "      <td>...</td>\n",
              "      <td>False</td>\n",
              "      <td>False</td>\n",
              "      <td>False</td>\n",
              "      <td>False</td>\n",
              "      <td>False</td>\n",
              "      <td>False</td>\n",
              "      <td>False</td>\n",
              "      <td>False</td>\n",
              "      <td>False</td>\n",
              "      <td>False</td>\n",
              "    </tr>\n",
              "  </tbody>\n",
              "</table>\n",
              "<p>5 rows × 29 columns</p>\n",
              "</div>"
            ],
            "text/plain": [
              "                      Title    Year                             Genres  \\\n",
              "0  The Shawshank Redemption  1994.0                 ['Crime', 'Drama']   \n",
              "1           The Dark Knight  2008.0       ['Action', 'Crime', 'Drama']   \n",
              "2                 Inception  2010.0  ['Action', 'Adventure', 'Sci-Fi']   \n",
              "3                Fight Club  1999.0                          ['Drama']   \n",
              "4              Pulp Fiction  1994.0                 ['Crime', 'Drama']   \n",
              "\n",
              "   Runtime  Rating  Metascore      Votes        Gross  Action  Adventure  ...  \\\n",
              "0    142.0     9.3       80.0  1695366.0   28340000.0   False      False  ...   \n",
              "1    152.0     9.0       82.0  1682554.0  533320000.0    True      False  ...   \n",
              "2    148.0     8.8       74.0  1473753.0  292570000.0    True       True  ...   \n",
              "3    139.0     8.8       66.0  1352395.0   37020000.0   False      False  ...   \n",
              "4    154.0     8.9       94.0  1329035.0  107930000.0   False      False  ...   \n",
              "\n",
              "   Horror  Music  Musical  Mystery  Romance  Sci-Fi  Sport  Thriller    War  \\\n",
              "0   False  False    False    False    False   False  False     False  False   \n",
              "1   False  False    False    False    False   False  False     False  False   \n",
              "2   False  False    False    False    False    True  False     False  False   \n",
              "3   False  False    False    False    False   False  False     False  False   \n",
              "4   False  False    False    False    False   False  False     False  False   \n",
              "\n",
              "   Western  \n",
              "0    False  \n",
              "1    False  \n",
              "2    False  \n",
              "3    False  \n",
              "4    False  \n",
              "\n",
              "[5 rows x 29 columns]"
            ]
          },
          "execution_count": 4,
          "metadata": {},
          "output_type": "execute_result"
        }
      ],
      "source": [
        "# Creating a data frame using the csv file\n",
        "df = pd.read_csv('IMDB_top_10000.csv')\n",
        "df.head()"
      ]
    },
    {
      "cell_type": "code",
      "execution_count": 5,
      "metadata": {
        "colab": {
          "base_uri": "https://localhost:8080/",
          "height": 459
        },
        "id": "MeVvFPu0i-je",
        "outputId": "47bb0107-1252-4550-e221-b48bdcd39cfa"
      },
      "outputs": [
        {
          "data": {
            "text/plain": [
              "<seaborn.axisgrid.JointGrid at 0x155059e50>"
            ]
          },
          "execution_count": 5,
          "metadata": {},
          "output_type": "execute_result"
        },
        {
          "data": {
            "image/png": "[encoded data removed]",
            "text/plain": [
              "<Figure size 600x600 with 3 Axes>"
            ]
          },
          "metadata": {},
          "output_type": "display_data"
        }
      ],
      "source": [
        "# Creating a scatterplot\n",
        "sns.jointplot(x='Rating', y='Metascore', data=df, kind=\"reg\")\n"
      ]
    },
    {
      "cell_type": "markdown",
      "metadata": {
        "id": "ML7uTXcL28HC"
      },
      "source": [
        "### Rating and Metascore have a positive correlation."
      ]
    },
    {
      "cell_type": "code",
      "execution_count": 6,
      "metadata": {
        "id": "DqhG_pgnCr6n"
      },
      "outputs": [],
      "source": [
        "# Removing all the nan values for obtaining the pearson correlation\n",
        "\n",
        "df_without_nan = df.dropna()"
      ]
    },
    {
      "cell_type": "code",
      "execution_count": 7,
      "metadata": {
        "colab": {
          "base_uri": "https://localhost:8080/"
        },
        "id": "5BFbzi3Li-rx",
        "outputId": "b2908780-0040-49dc-fba9-b8a825692edf"
      },
      "outputs": [
        {
          "data": {
            "text/plain": [
              "PearsonRResult(statistic=0.7354974882081728, pvalue=0.0)"
            ]
          },
          "execution_count": 7,
          "metadata": {},
          "output_type": "execute_result"
        }
      ],
      "source": [
        "# Obtaining the Perason correlation coefficient\n",
        "\n",
        "stats.pearsonr(df_without_nan.Metascore, df_without_nan.Rating)"
      ]
    },
    {
      "cell_type": "markdown",
      "metadata": {},
      "source": [
        "### There is a strong positive correlation between Metascore and Rating"
      ]
    },
    {
      "cell_type": "markdown",
      "metadata": {
        "id": "91iRQvrmTbOO"
      },
      "source": [
        "## Creating a Linear Regression model with Metascore and Rating\n",
        "\n",
        "\n",
        "### Firstly I'll be fitting a Linear Regression model with metascore and rating. After fitting the model I'll be observing the $R^2$ value, equation of the model, the value of $b_0$ (intercept), and $b_1$ (slope). Finally, I'll be checking whether the correlation coefficient is statistically significant and aditionally, display the confidence intervals of intercept $b_0$ (intercept), and $b_1$ (slope). \n",
        "\n",
        "\n"
      ]
    },
    {
      "cell_type": "code",
      "execution_count": null,
      "metadata": {
        "colab": {
          "base_uri": "https://localhost:8080/"
        },
        "id": "_bcA88JSYHkm",
        "outputId": "542f63b3-9ecc-463f-e9f1-02101fc3d943"
      },
      "outputs": [
        {
          "name": "stderr",
          "output_type": "stream",
          "text": [
            "/usr/local/lib/python3.7/dist-packages/ipykernel_launcher.py:7: SettingWithCopyWarning: \n",
            "A value is trying to be set on a copy of a slice from a DataFrame.\n",
            "Try using .loc[row_indexer,col_indexer] = value instead\n",
            "\n",
            "See the caveats in the documentation: https://pandas.pydata.org/pandas-docs/stable/user_guide/indexing.html#returning-a-view-versus-a-copy\n",
            "  import sys\n"
          ]
        }
      ],
      "source": [
        "# Importing the necessary file\n",
        "import statsmodels.api as sm\n",
        "\n",
        "# Using the data frame with all the na values removed\n",
        "X = df_without_nan.Rating \n",
        "\n",
        "# Adding a column for intercept/bias\n",
        "df_without_nan['intercept'] = 1\n"
      ]
    },
    {
      "cell_type": "code",
      "execution_count": null,
      "metadata": {
        "id": "Gs_cX5l7D8D_"
      },
      "outputs": [],
      "source": [
        "X = df_without_nan[['intercept', 'Rating']]\n",
        "y = df_without_nan.Metascore"
      ]
    },
    {
      "cell_type": "markdown",
      "metadata": {
        "id": "GS2fbKd8FyHu"
      },
      "source": [
        "### y = $\\beta_0$ + $\\beta_1$*X\n",
        "\n",
        "### Metascore = $\\beta_0$ + $\\beta_1$*Rating"
      ]
    },
    {
      "cell_type": "code",
      "execution_count": null,
      "metadata": {
        "colab": {
          "base_uri": "https://localhost:8080/"
        },
        "id": "Twd4ERuhD8HG",
        "outputId": "6cd83ac3-c9a2-412d-feac-467b598dc5bf"
      },
      "outputs": [
        {
          "name": "stdout",
          "output_type": "stream",
          "text": [
            "                            OLS Regression Results                            \n",
            "==============================================================================\n",
            "Dep. Variable:              Metascore   R-squared:                       0.541\n",
            "Model:                            OLS   Adj. R-squared:                  0.541\n",
            "Method:                 Least Squares   F-statistic:                     6044.\n",
            "Date:                Thu, 27 Oct 2022   Prob (F-statistic):               0.00\n",
            "Time:                        02:16:26   Log-Likelihood:                -20094.\n",
            "No. Observations:                5131   AIC:                         4.019e+04\n",
            "Df Residuals:                    5129   BIC:                         4.021e+04\n",
            "Df Model:                           1                                         \n",
            "Covariance Type:            nonrobust                                         \n",
            "==============================================================================\n",
            "                 coef    std err          t      P>|t|      [0.025      0.975]\n",
            "------------------------------------------------------------------------------\n",
            "intercept    -31.2836      1.135    -27.561      0.000     -33.509     -29.058\n",
            "Rating        13.3125      0.171     77.745      0.000      12.977      13.648\n",
            "==============================================================================\n",
            "Omnibus:                       25.575   Durbin-Watson:                   1.991\n",
            "Prob(Omnibus):                  0.000   Jarque-Bera (JB):               25.850\n",
            "Skew:                          -0.174   Prob(JB):                     2.44e-06\n",
            "Kurtosis:                       3.018   Cond. No.                         45.3\n",
            "==============================================================================\n",
            "\n",
            "Notes:\n",
            "[1] Standard Errors assume that the covariance matrix of the errors is correctly specified.\n"
          ]
        }
      ],
      "source": [
        "# Fitting a Linear model to the data\n",
        "ols = sm.OLS(y, X)\n",
        "ols_result = ols.fit()\n",
        "print(ols_result.summary())"
      ]
    },
    {
      "cell_type": "markdown",
      "metadata": {
        "id": "r1X4x2A1Jtw6"
      },
      "source": [
        "### Rsquared value is 0.541"
      ]
    },
    {
      "cell_type": "markdown",
      "metadata": {
        "id": "7lcehUyzRGKM"
      },
      "source": [
        "### Metascore = -31.2836 + 13.3125*Rating"
      ]
    },
    {
      "cell_type": "markdown",
      "metadata": {
        "id": "Dp9PGnzwR1QQ"
      },
      "source": [
        "\n",
        "### *   Value of $b_0$ (intercept): -31.2836 \n",
        "### *   Value of $b_1$ (slope): 13.3125"
      ]
    },
    {
      "cell_type": "code",
      "execution_count": null,
      "metadata": {
        "colab": {
          "base_uri": "https://localhost:8080/"
        },
        "id": "JfOTAVJwLVIZ",
        "outputId": "e15fa34c-259b-4f15-caa7-45409bfa4bcf"
      },
      "outputs": [
        {
          "data": {
            "text/plain": [
              "(0.735497488208167, 0.0)"
            ]
          },
          "execution_count": 210,
          "metadata": {},
          "output_type": "execute_result"
        }
      ],
      "source": [
        "#Perason correlation coefficient\n",
        "stats.pearsonr(df_without_nan.Metascore, df_without_nan.Rating)"
      ]
    },
    {
      "cell_type": "markdown",
      "metadata": {
        "id": "80uxJzySV-4I"
      },
      "source": [
        "### The correlation coefficient(r) is statistically significant. \n",
        "### The confidence interval of the intercept: [-33.509, -29.058]\n",
        "### The confidence interval of the rating coefficient: [ 12.977 , 13.648]"
      ]
    },
    {
      "cell_type": "code",
      "execution_count": null,
      "metadata": {
        "id": "Kwq9TIY0fad8"
      },
      "outputs": [],
      "source": []
    },
    {
      "cell_type": "markdown",
      "metadata": {
        "id": "QsLKb5RFKbge"
      },
      "source": [
        "## Repeating the above procedure with outliers removed\n",
        "\n",
        "### First I'll determine 25 (Q1), 50 (Q2), 75 (Q3) percentiles of Ratings and Merascore columns. Then I'll remove the that are not within the IQR [( Q1 – 1.5 * (Q3 - Q1)), (Q3 + 1.5 * (Q3 - Q1))]. Finally I'll repeat the entire procedure pertaining to the regression model."
      ]
    },
    {
      "cell_type": "code",
      "execution_count": null,
      "metadata": {
        "colab": {
          "base_uri": "https://localhost:8080/"
        },
        "id": "V0_TH2u6jhpS",
        "outputId": "1e8e998e-2245-4b17-90fc-23a07df8a34d"
      },
      "outputs": [
        {
          "name": "stdout",
          "output_type": "stream",
          "text": [
            "Q1 for Metascore:  43.0\n",
            "Q2 for Metascore:  56.0\n",
            "Q3 for Metascore:  69.0\n",
            "IQR:  43.0\n"
          ]
        }
      ],
      "source": [
        "# 1. Calculating the Q1, Q2, Q3, and IQR for Metascore with the na values removed\n",
        "Q1 = np.quantile(df_without_nan.Metascore, 0.25)\n",
        "Q2 = np.quantile(df_without_nan.Metascore, 0.50)\n",
        "Q3 = np.quantile(df_without_nan.Metascore, 0.75)\n",
        "IQR = Q3 - Q1\n",
        "\n",
        "print(\"Q1 for Metascore: \", Q1)\n",
        "print(\"Q2 for Metascore: \", Q2)\n",
        "print(\"Q3 for Metascore: \", Q3)\n",
        "print(\"IQR: \",Q1)\n",
        "\n",
        "m_lower_range = Q1 - 1.5 * IQR\n",
        "m_upper_range = Q3 + 1.5 * IQR\n"
      ]
    },
    {
      "cell_type": "code",
      "execution_count": null,
      "metadata": {
        "colab": {
          "base_uri": "https://localhost:8080/"
        },
        "id": "kFGzW6Wrpf_2",
        "outputId": "5c7012ac-63cf-488c-b8f0-97586d27dfaa"
      },
      "outputs": [
        {
          "name": "stdout",
          "output_type": "stream",
          "text": [
            "Number of outliers in the Metascore column are:  2\n"
          ]
        }
      ],
      "source": [
        "#Number of outliers in Metascore column\n",
        "df_metascore_outlier_removed = df_without_nan[(df_without_nan['Metascore'] > m_lower_range) & (df_without_nan['Metascore'] < m_upper_range)]\n",
        "row1 = len(df_without_nan.axes[0])\n",
        "row2 = len(df_metascore_outlier_removed.axes[0])\n",
        "print(\"Number of outliers in the Metascore column are: \", (row1 - row2))"
      ]
    },
    {
      "cell_type": "code",
      "execution_count": null,
      "metadata": {
        "colab": {
          "base_uri": "https://localhost:8080/"
        },
        "id": "kTAAdvEKrJab",
        "outputId": "1b011ec1-ad5c-44da-cf05-8efd88c0a9b1"
      },
      "outputs": [
        {
          "name": "stdout",
          "output_type": "stream",
          "text": [
            "Q1 for Rating:  6.0\n",
            "Q2 for Rating:  6.7\n",
            "Q3 for Rating:  7.25\n",
            "IQR:  6.0\n"
          ]
        }
      ],
      "source": [
        "# Calculating the Q1, Q2, Q3, and IQR for Rating with the na values removed\n",
        "Q1 = np.quantile(df_without_nan.Rating, 0.25)\n",
        "Q2 = np.quantile(df_without_nan.Rating, 0.50)\n",
        "Q3 = np.quantile(df_without_nan.Rating, 0.75)\n",
        "IQR = Q3 - Q1\n",
        "\n",
        "print(\"Q1 for Rating: \", Q1)\n",
        "print(\"Q2 for Rating: \", Q2)\n",
        "print(\"Q3 for Rating: \", Q3)\n",
        "print(\"IQR: \",Q1)\n",
        "\n",
        "r_lower_range = Q1 - 1.5 * IQR\n",
        "r_upper_range = Q3 + 1.5 * IQR"
      ]
    },
    {
      "cell_type": "code",
      "execution_count": null,
      "metadata": {
        "colab": {
          "base_uri": "https://localhost:8080/"
        },
        "id": "kfq_8nlwgYbQ",
        "outputId": "c10ef15d-3be3-4ebc-f156-d98f7dd1a416"
      },
      "outputs": [
        {
          "name": "stdout",
          "output_type": "stream",
          "text": [
            "Number of outliers in the Rating column are:  111\n"
          ]
        }
      ],
      "source": [
        "#Number of outliers in Rating column\n",
        "df_rating_outlier_removed = df_without_nan[(df_without_nan['Rating'] > r_lower_range) & (df_without_nan['Rating'] < r_upper_range)]\n",
        "row1 = len(df_without_nan.axes[0])\n",
        "row2 = len(df_rating_outlier_removed.axes[0])\n",
        "print(\"Number of outliers in the Rating column are: \", (row1 - row2))"
      ]
    },
    {
      "cell_type": "markdown",
      "metadata": {
        "id": "roNr2Y6ftBWT"
      },
      "source": [
        "### Fitting a Regression model with the outliers removed"
      ]
    },
    {
      "cell_type": "code",
      "execution_count": null,
      "metadata": {
        "id": "b77FzaesgYsE"
      },
      "outputs": [],
      "source": [
        "new_df = df_without_nan[(df_without_nan['Rating'] > r_lower_range) & (df_without_nan['Rating'] < r_upper_range) & (df_without_nan['Metascore'] > m_lower_range) & (df_without_nan['Metascore'] < m_upper_range)]"
      ]
    },
    {
      "cell_type": "code",
      "execution_count": null,
      "metadata": {
        "id": "MlfRSl8As2rY"
      },
      "outputs": [],
      "source": [
        "# Using the data frame with all the na values removed\n",
        "X = new_df.Rating \n"
      ]
    },
    {
      "cell_type": "code",
      "execution_count": null,
      "metadata": {
        "colab": {
          "base_uri": "https://localhost:8080/"
        },
        "id": "57DkgV3Js2uB",
        "outputId": "f63cc2cd-8c7a-4918-e31e-d497f7702a95"
      },
      "outputs": [
        {
          "name": "stderr",
          "output_type": "stream",
          "text": [
            "/usr/local/lib/python3.7/dist-packages/ipykernel_launcher.py:2: SettingWithCopyWarning: \n",
            "A value is trying to be set on a copy of a slice from a DataFrame.\n",
            "Try using .loc[row_indexer,col_indexer] = value instead\n",
            "\n",
            "See the caveats in the documentation: https://pandas.pydata.org/pandas-docs/stable/user_guide/indexing.html#returning-a-view-versus-a-copy\n",
            "  \n"
          ]
        }
      ],
      "source": [
        "# Adding a column for intercept/bias\n",
        "new_df['intercept'] = 1"
      ]
    },
    {
      "cell_type": "code",
      "execution_count": null,
      "metadata": {
        "id": "GRUl6dcbs2w4"
      },
      "outputs": [],
      "source": [
        "X = new_df[['intercept', 'Rating']]\n",
        "y = new_df.Metascore"
      ]
    },
    {
      "cell_type": "markdown",
      "metadata": {
        "id": "rxPcJIbtuweN"
      },
      "source": [
        "### y = $\\beta_0$ + $\\beta_1$*X\n",
        "\n",
        "### Metascore = $\\beta_0$ + $\\beta_1$*Rating"
      ]
    },
    {
      "cell_type": "code",
      "execution_count": null,
      "metadata": {
        "id": "yMsQyw2Zs2zh"
      },
      "outputs": [],
      "source": [
        "# Fitting a Linear model to the data\n",
        "ols = sm.OLS(y, X)\n",
        "ols_result = ols.fit()"
      ]
    },
    {
      "cell_type": "code",
      "execution_count": null,
      "metadata": {
        "colab": {
          "base_uri": "https://localhost:8080/"
        },
        "id": "pYCSef3us22W",
        "outputId": "65633214-7649-4d1e-9d8b-1299f4d80bf1"
      },
      "outputs": [
        {
          "name": "stdout",
          "output_type": "stream",
          "text": [
            "                            OLS Regression Results                            \n",
            "==============================================================================\n",
            "Dep. Variable:              Metascore   R-squared:                       0.520\n",
            "Model:                            OLS   Adj. R-squared:                  0.520\n",
            "Method:                 Least Squares   F-statistic:                     5443.\n",
            "Date:                Thu, 27 Oct 2022   Prob (F-statistic):               0.00\n",
            "Time:                        02:16:50   Log-Likelihood:                -19599.\n",
            "No. Observations:                5018   AIC:                         3.920e+04\n",
            "Df Residuals:                    5016   BIC:                         3.921e+04\n",
            "Df Model:                           1                                         \n",
            "Covariance Type:            nonrobust                                         \n",
            "==============================================================================\n",
            "                 coef    std err          t      P>|t|      [0.025      0.975]\n",
            "------------------------------------------------------------------------------\n",
            "intercept    -37.9902      1.294    -29.351      0.000     -40.528     -35.453\n",
            "Rating        14.2938      0.194     73.774      0.000      13.914      14.674\n",
            "==============================================================================\n",
            "Omnibus:                       34.682   Durbin-Watson:                   1.980\n",
            "Prob(Omnibus):                  0.000   Jarque-Bera (JB):               35.243\n",
            "Skew:                          -0.205   Prob(JB):                     2.22e-08\n",
            "Kurtosis:                       3.031   Cond. No.                         52.1\n",
            "==============================================================================\n",
            "\n",
            "Notes:\n",
            "[1] Standard Errors assume that the covariance matrix of the errors is correctly specified.\n"
          ]
        }
      ],
      "source": [
        "print(ols_result.summary())"
      ]
    },
    {
      "cell_type": "markdown",
      "metadata": {
        "id": "2lWwv0phKXBU"
      },
      "source": [
        "### R square = 0.520"
      ]
    },
    {
      "cell_type": "markdown",
      "metadata": {
        "id": "frmR-aPRu7_e"
      },
      "source": [
        "### Metascore = -37.9902 + 14.2938*Rating"
      ]
    },
    {
      "cell_type": "markdown",
      "metadata": {
        "id": "ivH1vQQfvBA0"
      },
      "source": [
        "### *   Value of $b_0$ (intercept): -37.9902\n",
        "### *   Value of $b_1$ (slope): 14.2938"
      ]
    },
    {
      "cell_type": "code",
      "execution_count": null,
      "metadata": {
        "colab": {
          "base_uri": "https://localhost:8080/"
        },
        "id": "YcPRlbnM2qmk",
        "outputId": "1d3570a1-fa40-4e6f-eddf-fc14d9009d9e"
      },
      "outputs": [
        {
          "data": {
            "text/plain": [
              "(0.7213849292007064, 0.0)"
            ]
          },
          "execution_count": 221,
          "metadata": {},
          "output_type": "execute_result"
        }
      ],
      "source": [
        "stats.pearsonr(new_df.Metascore, new_df.Rating)"
      ]
    },
    {
      "cell_type": "markdown",
      "metadata": {
        "id": "BAvll-BdvIvW"
      },
      "source": [
        "### The correlation coefficient(r) is statistically significant. \n",
        "### The confidence interval of the intercept: [-40.528, -35.453]\n",
        "### The confidence interval of the rating coefficient: [13.914, 14.674]"
      ]
    },
    {
      "cell_type": "code",
      "execution_count": null,
      "metadata": {
        "id": "83Cx5DNAs24s"
      },
      "outputs": [],
      "source": []
    },
    {
      "cell_type": "markdown",
      "metadata": {
        "id": "YP8aaWyRYs4b"
      },
      "source": [
        "## Creating a Linear Regression model with Metascore (y axis) and Gross (x axis)\n",
        "\n",
        "\n",
        "\n",
        "\n"
      ]
    },
    {
      "cell_type": "code",
      "execution_count": null,
      "metadata": {
        "colab": {
          "base_uri": "https://localhost:8080/",
          "height": 546
        },
        "id": "0CYohfMUKWLq",
        "outputId": "16416b20-35d6-40d3-d51f-327b0d7e9236"
      },
      "outputs": [
        {
          "name": "stderr",
          "output_type": "stream",
          "text": [
            "/usr/local/lib/python3.7/dist-packages/ipykernel_launcher.py:7: SettingWithCopyWarning: \n",
            "A value is trying to be set on a copy of a slice from a DataFrame.\n",
            "Try using .loc[row_indexer,col_indexer] = value instead\n",
            "\n",
            "See the caveats in the documentation: https://pandas.pydata.org/pandas-docs/stable/user_guide/indexing.html#returning-a-view-versus-a-copy\n",
            "  import sys\n"
          ]
        },
        {
          "data": {
            "text/html": [
              "\n",
              "  <div id=\"df-0fc07f33-9cb9-4181-9e77-488b83318e44\">\n",
              "    <div class=\"colab-df-container\">\n",
              "      <div>\n",
              "<style scoped>\n",
              "    .dataframe tbody tr th:only-of-type {\n",
              "        vertical-align: middle;\n",
              "    }\n",
              "\n",
              "    .dataframe tbody tr th {\n",
              "        vertical-align: top;\n",
              "    }\n",
              "\n",
              "    .dataframe thead th {\n",
              "        text-align: right;\n",
              "    }\n",
              "</style>\n",
              "<table border=\"1\" class=\"dataframe\">\n",
              "  <thead>\n",
              "    <tr style=\"text-align: right;\">\n",
              "      <th></th>\n",
              "      <th>Title</th>\n",
              "      <th>Year</th>\n",
              "      <th>Genres</th>\n",
              "      <th>Runtime</th>\n",
              "      <th>Rating</th>\n",
              "      <th>Metascore</th>\n",
              "      <th>Votes</th>\n",
              "      <th>Gross</th>\n",
              "      <th>Action</th>\n",
              "      <th>Adventure</th>\n",
              "      <th>...</th>\n",
              "      <th>Music</th>\n",
              "      <th>Musical</th>\n",
              "      <th>Mystery</th>\n",
              "      <th>Romance</th>\n",
              "      <th>Sci-Fi</th>\n",
              "      <th>Sport</th>\n",
              "      <th>Thriller</th>\n",
              "      <th>War</th>\n",
              "      <th>Western</th>\n",
              "      <th>intercept</th>\n",
              "    </tr>\n",
              "  </thead>\n",
              "  <tbody>\n",
              "    <tr>\n",
              "      <th>0</th>\n",
              "      <td>The Shawshank Redemption</td>\n",
              "      <td>1994.0</td>\n",
              "      <td>['Crime', 'Drama']</td>\n",
              "      <td>142.0</td>\n",
              "      <td>9.3</td>\n",
              "      <td>80.0</td>\n",
              "      <td>1695366.0</td>\n",
              "      <td>28340000.0</td>\n",
              "      <td>False</td>\n",
              "      <td>False</td>\n",
              "      <td>...</td>\n",
              "      <td>False</td>\n",
              "      <td>False</td>\n",
              "      <td>False</td>\n",
              "      <td>False</td>\n",
              "      <td>False</td>\n",
              "      <td>False</td>\n",
              "      <td>False</td>\n",
              "      <td>False</td>\n",
              "      <td>False</td>\n",
              "      <td>1</td>\n",
              "    </tr>\n",
              "    <tr>\n",
              "      <th>1</th>\n",
              "      <td>The Dark Knight</td>\n",
              "      <td>2008.0</td>\n",
              "      <td>['Action', 'Crime', 'Drama']</td>\n",
              "      <td>152.0</td>\n",
              "      <td>9.0</td>\n",
              "      <td>82.0</td>\n",
              "      <td>1682554.0</td>\n",
              "      <td>533320000.0</td>\n",
              "      <td>True</td>\n",
              "      <td>False</td>\n",
              "      <td>...</td>\n",
              "      <td>False</td>\n",
              "      <td>False</td>\n",
              "      <td>False</td>\n",
              "      <td>False</td>\n",
              "      <td>False</td>\n",
              "      <td>False</td>\n",
              "      <td>False</td>\n",
              "      <td>False</td>\n",
              "      <td>False</td>\n",
              "      <td>1</td>\n",
              "    </tr>\n",
              "    <tr>\n",
              "      <th>2</th>\n",
              "      <td>Inception</td>\n",
              "      <td>2010.0</td>\n",
              "      <td>['Action', 'Adventure', 'Sci-Fi']</td>\n",
              "      <td>148.0</td>\n",
              "      <td>8.8</td>\n",
              "      <td>74.0</td>\n",
              "      <td>1473753.0</td>\n",
              "      <td>292570000.0</td>\n",
              "      <td>True</td>\n",
              "      <td>True</td>\n",
              "      <td>...</td>\n",
              "      <td>False</td>\n",
              "      <td>False</td>\n",
              "      <td>False</td>\n",
              "      <td>False</td>\n",
              "      <td>True</td>\n",
              "      <td>False</td>\n",
              "      <td>False</td>\n",
              "      <td>False</td>\n",
              "      <td>False</td>\n",
              "      <td>1</td>\n",
              "    </tr>\n",
              "    <tr>\n",
              "      <th>3</th>\n",
              "      <td>Fight Club</td>\n",
              "      <td>1999.0</td>\n",
              "      <td>['Drama']</td>\n",
              "      <td>139.0</td>\n",
              "      <td>8.8</td>\n",
              "      <td>66.0</td>\n",
              "      <td>1352395.0</td>\n",
              "      <td>37020000.0</td>\n",
              "      <td>False</td>\n",
              "      <td>False</td>\n",
              "      <td>...</td>\n",
              "      <td>False</td>\n",
              "      <td>False</td>\n",
              "      <td>False</td>\n",
              "      <td>False</td>\n",
              "      <td>False</td>\n",
              "      <td>False</td>\n",
              "      <td>False</td>\n",
              "      <td>False</td>\n",
              "      <td>False</td>\n",
              "      <td>1</td>\n",
              "    </tr>\n",
              "    <tr>\n",
              "      <th>4</th>\n",
              "      <td>Pulp Fiction</td>\n",
              "      <td>1994.0</td>\n",
              "      <td>['Crime', 'Drama']</td>\n",
              "      <td>154.0</td>\n",
              "      <td>8.9</td>\n",
              "      <td>94.0</td>\n",
              "      <td>1329035.0</td>\n",
              "      <td>107930000.0</td>\n",
              "      <td>False</td>\n",
              "      <td>False</td>\n",
              "      <td>...</td>\n",
              "      <td>False</td>\n",
              "      <td>False</td>\n",
              "      <td>False</td>\n",
              "      <td>False</td>\n",
              "      <td>False</td>\n",
              "      <td>False</td>\n",
              "      <td>False</td>\n",
              "      <td>False</td>\n",
              "      <td>False</td>\n",
              "      <td>1</td>\n",
              "    </tr>\n",
              "  </tbody>\n",
              "</table>\n",
              "<p>5 rows × 30 columns</p>\n",
              "</div>\n",
              "      <button class=\"colab-df-convert\" onclick=\"convertToInteractive('df-0fc07f33-9cb9-4181-9e77-488b83318e44')\"\n",
              "              title=\"Convert this dataframe to an interactive table.\"\n",
              "              style=\"display:none;\">\n",
              "        \n",
              "  <svg xmlns=\"http://www.w3.org/2000/svg\" height=\"24px\"viewBox=\"0 0 24 24\"\n",
              "       width=\"24px\">\n",
              "    <path d=\"M0 0h24v24H0V0z\" fill=\"none\"/>\n",
              "    <path d=\"M18.56 5.44l.94 2.06.94-2.06 2.06-.94-2.06-.94-.94-2.06-.94 2.06-2.06.94zm-11 1L8.5 8.5l.94-2.06 2.06-.94-2.06-.94L8.5 2.5l-.94 2.06-2.06.94zm10 10l.94 2.06.94-2.06 2.06-.94-2.06-.94-.94-2.06-.94 2.06-2.06.94z\"/><path d=\"M17.41 7.96l-1.37-1.37c-.4-.4-.92-.59-1.43-.59-.52 0-1.04.2-1.43.59L10.3 9.45l-7.72 7.72c-.78.78-.78 2.05 0 2.83L4 21.41c.39.39.9.59 1.41.59.51 0 1.02-.2 1.41-.59l7.78-7.78 2.81-2.81c.8-.78.8-2.07 0-2.86zM5.41 20L4 18.59l7.72-7.72 1.47 1.35L5.41 20z\"/>\n",
              "  </svg>\n",
              "      </button>\n",
              "      \n",
              "  <style>\n",
              "    .colab-df-container {\n",
              "      display:flex;\n",
              "      flex-wrap:wrap;\n",
              "      gap: 12px;\n",
              "    }\n",
              "\n",
              "    .colab-df-convert {\n",
              "      background-color: #E8F0FE;\n",
              "      border: none;\n",
              "      border-radius: 50%;\n",
              "      cursor: pointer;\n",
              "      display: none;\n",
              "      fill: #1967D2;\n",
              "      height: 32px;\n",
              "      padding: 0 0 0 0;\n",
              "      width: 32px;\n",
              "    }\n",
              "\n",
              "    .colab-df-convert:hover {\n",
              "      background-color: #E2EBFA;\n",
              "      box-shadow: 0px 1px 2px rgba(60, 64, 67, 0.3), 0px 1px 3px 1px rgba(60, 64, 67, 0.15);\n",
              "      fill: #174EA6;\n",
              "    }\n",
              "\n",
              "    [theme=dark] .colab-df-convert {\n",
              "      background-color: #3B4455;\n",
              "      fill: #D2E3FC;\n",
              "    }\n",
              "\n",
              "    [theme=dark] .colab-df-convert:hover {\n",
              "      background-color: #434B5C;\n",
              "      box-shadow: 0px 1px 3px 1px rgba(0, 0, 0, 0.15);\n",
              "      filter: drop-shadow(0px 1px 2px rgba(0, 0, 0, 0.3));\n",
              "      fill: #FFFFFF;\n",
              "    }\n",
              "  </style>\n",
              "\n",
              "      <script>\n",
              "        const buttonEl =\n",
              "          document.querySelector('#df-0fc07f33-9cb9-4181-9e77-488b83318e44 button.colab-df-convert');\n",
              "        buttonEl.style.display =\n",
              "          google.colab.kernel.accessAllowed ? 'block' : 'none';\n",
              "\n",
              "        async function convertToInteractive(key) {\n",
              "          const element = document.querySelector('#df-0fc07f33-9cb9-4181-9e77-488b83318e44');\n",
              "          const dataTable =\n",
              "            await google.colab.kernel.invokeFunction('convertToInteractive',\n",
              "                                                     [key], {});\n",
              "          if (!dataTable) return;\n",
              "\n",
              "          const docLinkHtml = 'Like what you see? Visit the ' +\n",
              "            '<a target=\"_blank\" href=https://colab.research.google.com/notebooks/data_table.ipynb>data table notebook</a>'\n",
              "            + ' to learn more about interactive tables.';\n",
              "          element.innerHTML = '';\n",
              "          dataTable['output_type'] = 'display_data';\n",
              "          await google.colab.output.renderOutput(dataTable, element);\n",
              "          const docLink = document.createElement('div');\n",
              "          docLink.innerHTML = docLinkHtml;\n",
              "          element.appendChild(docLink);\n",
              "        }\n",
              "      </script>\n",
              "    </div>\n",
              "  </div>\n",
              "  "
            ],
            "text/plain": [
              "                      Title    Year                             Genres  \\\n",
              "0  The Shawshank Redemption  1994.0                 ['Crime', 'Drama']   \n",
              "1           The Dark Knight  2008.0       ['Action', 'Crime', 'Drama']   \n",
              "2                 Inception  2010.0  ['Action', 'Adventure', 'Sci-Fi']   \n",
              "3                Fight Club  1999.0                          ['Drama']   \n",
              "4              Pulp Fiction  1994.0                 ['Crime', 'Drama']   \n",
              "\n",
              "   Runtime  Rating  Metascore      Votes        Gross  Action  Adventure  ...  \\\n",
              "0    142.0     9.3       80.0  1695366.0   28340000.0   False      False  ...   \n",
              "1    152.0     9.0       82.0  1682554.0  533320000.0    True      False  ...   \n",
              "2    148.0     8.8       74.0  1473753.0  292570000.0    True       True  ...   \n",
              "3    139.0     8.8       66.0  1352395.0   37020000.0   False      False  ...   \n",
              "4    154.0     8.9       94.0  1329035.0  107930000.0   False      False  ...   \n",
              "\n",
              "   Music  Musical  Mystery  Romance  Sci-Fi  Sport  Thriller    War  Western  \\\n",
              "0  False    False    False    False   False  False     False  False    False   \n",
              "1  False    False    False    False   False  False     False  False    False   \n",
              "2  False    False    False    False    True  False     False  False    False   \n",
              "3  False    False    False    False   False  False     False  False    False   \n",
              "4  False    False    False    False   False  False     False  False    False   \n",
              "\n",
              "   intercept  \n",
              "0          1  \n",
              "1          1  \n",
              "2          1  \n",
              "3          1  \n",
              "4          1  \n",
              "\n",
              "[5 rows x 30 columns]"
            ]
          },
          "execution_count": 222,
          "metadata": {},
          "output_type": "execute_result"
        }
      ],
      "source": [
        "import statsmodels.api as sm\n",
        "\n",
        "# Using the data frame with all the na values removed\n",
        "X = df_without_nan.Gross\n",
        "\n",
        "# Adding a column for intercept/bias\n",
        "df_without_nan['intercept'] = 1\n",
        "df_without_nan.head()"
      ]
    },
    {
      "cell_type": "code",
      "execution_count": null,
      "metadata": {
        "id": "sA2TpQaR3vQO"
      },
      "outputs": [],
      "source": [
        "X = df_without_nan[['intercept', 'Gross']]\n",
        "y = df_without_nan.Metascore"
      ]
    },
    {
      "cell_type": "markdown",
      "metadata": {
        "id": "Nj99bDuE4eD3"
      },
      "source": [
        "### y = $\\beta_0$ + $\\beta_1$*X\n",
        "\n",
        "### Metascore = $\\beta_0$ + $\\beta_1$*Rating"
      ]
    },
    {
      "cell_type": "code",
      "execution_count": null,
      "metadata": {
        "colab": {
          "base_uri": "https://localhost:8080/"
        },
        "id": "6d9Kh4_h3vTX",
        "outputId": "d80f6858-7aad-4ba6-fe15-49370d6e028d"
      },
      "outputs": [
        {
          "name": "stdout",
          "output_type": "stream",
          "text": [
            "                            OLS Regression Results                            \n",
            "==============================================================================\n",
            "Dep. Variable:              Metascore   R-squared:                       0.006\n",
            "Model:                            OLS   Adj. R-squared:                  0.006\n",
            "Method:                 Least Squares   F-statistic:                     31.15\n",
            "Date:                Thu, 27 Oct 2022   Prob (F-statistic):           2.52e-08\n",
            "Time:                        02:17:37   Log-Likelihood:                -22076.\n",
            "No. Observations:                5131   AIC:                         4.416e+04\n",
            "Df Residuals:                    5129   BIC:                         4.417e+04\n",
            "Df Model:                           1                                         \n",
            "Covariance Type:            nonrobust                                         \n",
            "==============================================================================\n",
            "                 coef    std err          t      P>|t|      [0.025      0.975]\n",
            "------------------------------------------------------------------------------\n",
            "intercept     55.1111      0.293    187.950      0.000      54.536      55.686\n",
            "Gross       2.142e-08   3.84e-09      5.581      0.000    1.39e-08    2.89e-08\n",
            "==============================================================================\n",
            "Omnibus:                      152.494   Durbin-Watson:                   1.933\n",
            "Prob(Omnibus):                  0.000   Jarque-Bera (JB):               82.315\n",
            "Skew:                          -0.127   Prob(JB):                     1.34e-18\n",
            "Kurtosis:                       2.434   Cond. No.                     8.97e+07\n",
            "==============================================================================\n",
            "\n",
            "Notes:\n",
            "[1] Standard Errors assume that the covariance matrix of the errors is correctly specified.\n",
            "[2] The condition number is large, 8.97e+07. This might indicate that there are\n",
            "strong multicollinearity or other numerical problems.\n"
          ]
        }
      ],
      "source": [
        "# Fitting a Linear model to the data\n",
        "ols = sm.OLS(y, X)\n",
        "ols_result = ols.fit()\n",
        "print(ols_result.summary())"
      ]
    },
    {
      "cell_type": "markdown",
      "metadata": {
        "id": "MaHQfrVPNa_q"
      },
      "source": [
        "### R squared is = 0.006"
      ]
    },
    {
      "cell_type": "markdown",
      "metadata": {
        "id": "Tnip95_a4xFl"
      },
      "source": [
        "### Metascore = 55.1111 + 2.142e-08*Gross"
      ]
    },
    {
      "cell_type": "markdown",
      "metadata": {
        "id": "uY-FcAwy4xIo"
      },
      "source": [
        "### *   Value of $b_0$ (intercept): 55.1111\n",
        "### *   Value of $b_1$ (slope): 2.142e-08"
      ]
    },
    {
      "cell_type": "code",
      "execution_count": null,
      "metadata": {
        "colab": {
          "base_uri": "https://localhost:8080/"
        },
        "id": "B_3kTbZq3vWy",
        "outputId": "ec573ecd-069d-4269-807e-5480825dbd82"
      },
      "outputs": [
        {
          "data": {
            "text/plain": [
              "(0.06814736535247588, 1.3528562351919006e-06)"
            ]
          },
          "execution_count": 225,
          "metadata": {},
          "output_type": "execute_result"
        }
      ],
      "source": [
        "stats.pearsonr(new_df.Metascore, new_df.Gross)"
      ]
    },
    {
      "cell_type": "markdown",
      "metadata": {
        "id": "n9sAxDke5Eai"
      },
      "source": [
        "### The correlation coefficient is statistically significant. \n",
        "### The confidence interval of the intercept: [ 54.536, 55.686]\n",
        "### The confidence interval of the gross coefficient: [1.39e-08 , 2.89e-08]"
      ]
    },
    {
      "cell_type": "code",
      "execution_count": null,
      "metadata": {
        "id": "X3P24_Jb3vuM"
      },
      "outputs": [],
      "source": []
    },
    {
      "cell_type": "markdown",
      "metadata": {
        "id": "ooi9LBH7YBgR"
      },
      "source": [
        "## Creating a Multiple Regression model with Metascore as the Response Variable\n",
        "\n",
        "\n",
        "\n",
        "### First I'll be creating a Multiple Regression model to predict Metascore (response variable) given [Ratings, Runtime, Gross, Votes, Action, Comedy, Horror] (explanatory variables). To fit the model I'll be transforming the categorical exploratory variable into summy variabels. Then I'll be observing the $R^2$ value, equation of the model, and the explanatory variables have statistically significant correlation with Metascore.\n",
        "\n",
        "### Aditionally, I'll use the model to predict the Metascore of a random movie that has 6.9 rating, 100 minutes long, made $3 million, received 14000 votes, and belongs to Comedy genre. Finally, I'll use the model to predict the Metascore of a movie that has the same profile as above except that it belongs to Horror genre instead of Comedy."
      ]
    },
    {
      "cell_type": "code",
      "execution_count": null,
      "metadata": {
        "colab": {
          "base_uri": "https://localhost:8080/"
        },
        "id": "2lNlPkXLG_GL",
        "outputId": "6e861378-1a2e-425c-a89b-5e5128fbc074"
      },
      "outputs": [
        {
          "name": "stderr",
          "output_type": "stream",
          "text": [
            "/usr/local/lib/python3.7/dist-packages/ipykernel_launcher.py:1: SettingWithCopyWarning: \n",
            "A value is trying to be set on a copy of a slice from a DataFrame.\n",
            "Try using .loc[row_indexer,col_indexer] = value instead\n",
            "\n",
            "See the caveats in the documentation: https://pandas.pydata.org/pandas-docs/stable/user_guide/indexing.html#returning-a-view-versus-a-copy\n",
            "  \"\"\"Entry point for launching an IPython kernel.\n"
          ]
        }
      ],
      "source": [
        "df_without_nan['Intercept'] = 1"
      ]
    },
    {
      "cell_type": "code",
      "execution_count": null,
      "metadata": {
        "colab": {
          "base_uri": "https://localhost:8080/",
          "height": 438
        },
        "id": "n2zPx5Fo5zXM",
        "outputId": "7890b91f-be4f-48e0-c355-a9fbe903be81"
      },
      "outputs": [
        {
          "data": {
            "text/html": [
              "\n",
              "  <div id=\"df-9ea0fb88-e6cd-496a-82db-6404490c05b4\">\n",
              "    <div class=\"colab-df-container\">\n",
              "      <div>\n",
              "<style scoped>\n",
              "    .dataframe tbody tr th:only-of-type {\n",
              "        vertical-align: middle;\n",
              "    }\n",
              "\n",
              "    .dataframe tbody tr th {\n",
              "        vertical-align: top;\n",
              "    }\n",
              "\n",
              "    .dataframe thead th {\n",
              "        text-align: right;\n",
              "    }\n",
              "</style>\n",
              "<table border=\"1\" class=\"dataframe\">\n",
              "  <thead>\n",
              "    <tr style=\"text-align: right;\">\n",
              "      <th></th>\n",
              "      <th>Title</th>\n",
              "      <th>Year</th>\n",
              "      <th>Genres</th>\n",
              "      <th>Runtime</th>\n",
              "      <th>Rating</th>\n",
              "      <th>Metascore</th>\n",
              "      <th>Votes</th>\n",
              "      <th>Gross</th>\n",
              "      <th>Action</th>\n",
              "      <th>Adventure</th>\n",
              "      <th>...</th>\n",
              "      <th>Musical</th>\n",
              "      <th>Mystery</th>\n",
              "      <th>Romance</th>\n",
              "      <th>Sci-Fi</th>\n",
              "      <th>Sport</th>\n",
              "      <th>Thriller</th>\n",
              "      <th>War</th>\n",
              "      <th>Western</th>\n",
              "      <th>intercept</th>\n",
              "      <th>Intercept</th>\n",
              "    </tr>\n",
              "  </thead>\n",
              "  <tbody>\n",
              "    <tr>\n",
              "      <th>0</th>\n",
              "      <td>The Shawshank Redemption</td>\n",
              "      <td>1994.0</td>\n",
              "      <td>['Crime', 'Drama']</td>\n",
              "      <td>142.0</td>\n",
              "      <td>9.3</td>\n",
              "      <td>80.0</td>\n",
              "      <td>1695366.0</td>\n",
              "      <td>28340000.0</td>\n",
              "      <td>0</td>\n",
              "      <td>False</td>\n",
              "      <td>...</td>\n",
              "      <td>False</td>\n",
              "      <td>False</td>\n",
              "      <td>False</td>\n",
              "      <td>False</td>\n",
              "      <td>False</td>\n",
              "      <td>False</td>\n",
              "      <td>False</td>\n",
              "      <td>False</td>\n",
              "      <td>1</td>\n",
              "      <td>1</td>\n",
              "    </tr>\n",
              "    <tr>\n",
              "      <th>1</th>\n",
              "      <td>The Dark Knight</td>\n",
              "      <td>2008.0</td>\n",
              "      <td>['Action', 'Crime', 'Drama']</td>\n",
              "      <td>152.0</td>\n",
              "      <td>9.0</td>\n",
              "      <td>82.0</td>\n",
              "      <td>1682554.0</td>\n",
              "      <td>533320000.0</td>\n",
              "      <td>1</td>\n",
              "      <td>False</td>\n",
              "      <td>...</td>\n",
              "      <td>False</td>\n",
              "      <td>False</td>\n",
              "      <td>False</td>\n",
              "      <td>False</td>\n",
              "      <td>False</td>\n",
              "      <td>False</td>\n",
              "      <td>False</td>\n",
              "      <td>False</td>\n",
              "      <td>1</td>\n",
              "      <td>1</td>\n",
              "    </tr>\n",
              "    <tr>\n",
              "      <th>2</th>\n",
              "      <td>Inception</td>\n",
              "      <td>2010.0</td>\n",
              "      <td>['Action', 'Adventure', 'Sci-Fi']</td>\n",
              "      <td>148.0</td>\n",
              "      <td>8.8</td>\n",
              "      <td>74.0</td>\n",
              "      <td>1473753.0</td>\n",
              "      <td>292570000.0</td>\n",
              "      <td>1</td>\n",
              "      <td>True</td>\n",
              "      <td>...</td>\n",
              "      <td>False</td>\n",
              "      <td>False</td>\n",
              "      <td>False</td>\n",
              "      <td>True</td>\n",
              "      <td>False</td>\n",
              "      <td>False</td>\n",
              "      <td>False</td>\n",
              "      <td>False</td>\n",
              "      <td>1</td>\n",
              "      <td>1</td>\n",
              "    </tr>\n",
              "    <tr>\n",
              "      <th>3</th>\n",
              "      <td>Fight Club</td>\n",
              "      <td>1999.0</td>\n",
              "      <td>['Drama']</td>\n",
              "      <td>139.0</td>\n",
              "      <td>8.8</td>\n",
              "      <td>66.0</td>\n",
              "      <td>1352395.0</td>\n",
              "      <td>37020000.0</td>\n",
              "      <td>0</td>\n",
              "      <td>False</td>\n",
              "      <td>...</td>\n",
              "      <td>False</td>\n",
              "      <td>False</td>\n",
              "      <td>False</td>\n",
              "      <td>False</td>\n",
              "      <td>False</td>\n",
              "      <td>False</td>\n",
              "      <td>False</td>\n",
              "      <td>False</td>\n",
              "      <td>1</td>\n",
              "      <td>1</td>\n",
              "    </tr>\n",
              "    <tr>\n",
              "      <th>4</th>\n",
              "      <td>Pulp Fiction</td>\n",
              "      <td>1994.0</td>\n",
              "      <td>['Crime', 'Drama']</td>\n",
              "      <td>154.0</td>\n",
              "      <td>8.9</td>\n",
              "      <td>94.0</td>\n",
              "      <td>1329035.0</td>\n",
              "      <td>107930000.0</td>\n",
              "      <td>0</td>\n",
              "      <td>False</td>\n",
              "      <td>...</td>\n",
              "      <td>False</td>\n",
              "      <td>False</td>\n",
              "      <td>False</td>\n",
              "      <td>False</td>\n",
              "      <td>False</td>\n",
              "      <td>False</td>\n",
              "      <td>False</td>\n",
              "      <td>False</td>\n",
              "      <td>1</td>\n",
              "      <td>1</td>\n",
              "    </tr>\n",
              "  </tbody>\n",
              "</table>\n",
              "<p>5 rows × 31 columns</p>\n",
              "</div>\n",
              "      <button class=\"colab-df-convert\" onclick=\"convertToInteractive('df-9ea0fb88-e6cd-496a-82db-6404490c05b4')\"\n",
              "              title=\"Convert this dataframe to an interactive table.\"\n",
              "              style=\"display:none;\">\n",
              "        \n",
              "  <svg xmlns=\"http://www.w3.org/2000/svg\" height=\"24px\"viewBox=\"0 0 24 24\"\n",
              "       width=\"24px\">\n",
              "    <path d=\"M0 0h24v24H0V0z\" fill=\"none\"/>\n",
              "    <path d=\"M18.56 5.44l.94 2.06.94-2.06 2.06-.94-2.06-.94-.94-2.06-.94 2.06-2.06.94zm-11 1L8.5 8.5l.94-2.06 2.06-.94-2.06-.94L8.5 2.5l-.94 2.06-2.06.94zm10 10l.94 2.06.94-2.06 2.06-.94-2.06-.94-.94-2.06-.94 2.06-2.06.94z\"/><path d=\"M17.41 7.96l-1.37-1.37c-.4-.4-.92-.59-1.43-.59-.52 0-1.04.2-1.43.59L10.3 9.45l-7.72 7.72c-.78.78-.78 2.05 0 2.83L4 21.41c.39.39.9.59 1.41.59.51 0 1.02-.2 1.41-.59l7.78-7.78 2.81-2.81c.8-.78.8-2.07 0-2.86zM5.41 20L4 18.59l7.72-7.72 1.47 1.35L5.41 20z\"/>\n",
              "  </svg>\n",
              "      </button>\n",
              "      \n",
              "  <style>\n",
              "    .colab-df-container {\n",
              "      display:flex;\n",
              "      flex-wrap:wrap;\n",
              "      gap: 12px;\n",
              "    }\n",
              "\n",
              "    .colab-df-convert {\n",
              "      background-color: #E8F0FE;\n",
              "      border: none;\n",
              "      border-radius: 50%;\n",
              "      cursor: pointer;\n",
              "      display: none;\n",
              "      fill: #1967D2;\n",
              "      height: 32px;\n",
              "      padding: 0 0 0 0;\n",
              "      width: 32px;\n",
              "    }\n",
              "\n",
              "    .colab-df-convert:hover {\n",
              "      background-color: #E2EBFA;\n",
              "      box-shadow: 0px 1px 2px rgba(60, 64, 67, 0.3), 0px 1px 3px 1px rgba(60, 64, 67, 0.15);\n",
              "      fill: #174EA6;\n",
              "    }\n",
              "\n",
              "    [theme=dark] .colab-df-convert {\n",
              "      background-color: #3B4455;\n",
              "      fill: #D2E3FC;\n",
              "    }\n",
              "\n",
              "    [theme=dark] .colab-df-convert:hover {\n",
              "      background-color: #434B5C;\n",
              "      box-shadow: 0px 1px 3px 1px rgba(0, 0, 0, 0.15);\n",
              "      filter: drop-shadow(0px 1px 2px rgba(0, 0, 0, 0.3));\n",
              "      fill: #FFFFFF;\n",
              "    }\n",
              "  </style>\n",
              "\n",
              "      <script>\n",
              "        const buttonEl =\n",
              "          document.querySelector('#df-9ea0fb88-e6cd-496a-82db-6404490c05b4 button.colab-df-convert');\n",
              "        buttonEl.style.display =\n",
              "          google.colab.kernel.accessAllowed ? 'block' : 'none';\n",
              "\n",
              "        async function convertToInteractive(key) {\n",
              "          const element = document.querySelector('#df-9ea0fb88-e6cd-496a-82db-6404490c05b4');\n",
              "          const dataTable =\n",
              "            await google.colab.kernel.invokeFunction('convertToInteractive',\n",
              "                                                     [key], {});\n",
              "          if (!dataTable) return;\n",
              "\n",
              "          const docLinkHtml = 'Like what you see? Visit the ' +\n",
              "            '<a target=\"_blank\" href=https://colab.research.google.com/notebooks/data_table.ipynb>data table notebook</a>'\n",
              "            + ' to learn more about interactive tables.';\n",
              "          element.innerHTML = '';\n",
              "          dataTable['output_type'] = 'display_data';\n",
              "          await google.colab.output.renderOutput(dataTable, element);\n",
              "          const docLink = document.createElement('div');\n",
              "          docLink.innerHTML = docLinkHtml;\n",
              "          element.appendChild(docLink);\n",
              "        }\n",
              "      </script>\n",
              "    </div>\n",
              "  </div>\n",
              "  "
            ],
            "text/plain": [
              "                      Title    Year                             Genres  \\\n",
              "0  The Shawshank Redemption  1994.0                 ['Crime', 'Drama']   \n",
              "1           The Dark Knight  2008.0       ['Action', 'Crime', 'Drama']   \n",
              "2                 Inception  2010.0  ['Action', 'Adventure', 'Sci-Fi']   \n",
              "3                Fight Club  1999.0                          ['Drama']   \n",
              "4              Pulp Fiction  1994.0                 ['Crime', 'Drama']   \n",
              "\n",
              "   Runtime  Rating  Metascore      Votes        Gross  Action  Adventure  ...  \\\n",
              "0    142.0     9.3       80.0  1695366.0   28340000.0       0      False  ...   \n",
              "1    152.0     9.0       82.0  1682554.0  533320000.0       1      False  ...   \n",
              "2    148.0     8.8       74.0  1473753.0  292570000.0       1       True  ...   \n",
              "3    139.0     8.8       66.0  1352395.0   37020000.0       0      False  ...   \n",
              "4    154.0     8.9       94.0  1329035.0  107930000.0       0      False  ...   \n",
              "\n",
              "   Musical  Mystery  Romance  Sci-Fi  Sport  Thriller    War  Western  \\\n",
              "0    False    False    False   False  False     False  False    False   \n",
              "1    False    False    False   False  False     False  False    False   \n",
              "2    False    False    False    True  False     False  False    False   \n",
              "3    False    False    False   False  False     False  False    False   \n",
              "4    False    False    False   False  False     False  False    False   \n",
              "\n",
              "   intercept  Intercept  \n",
              "0          1          1  \n",
              "1          1          1  \n",
              "2          1          1  \n",
              "3          1          1  \n",
              "4          1          1  \n",
              "\n",
              "[5 rows x 31 columns]"
            ]
          },
          "execution_count": 227,
          "metadata": {},
          "output_type": "execute_result"
        }
      ],
      "source": [
        "df_with_dummy = df_without_nan.copy()                                     \n",
        "df_with_dummy['Action'] = df_with_dummy['Action'].astype(int)  \n",
        "df_with_dummy[\"Comedy\"] = df_with_dummy['Comedy'].astype(int)\n",
        "df_with_dummy[\"Horror\"] = df_with_dummy['Horror'].astype(int)\n",
        "df_with_dummy.head()"
      ]
    },
    {
      "cell_type": "code",
      "execution_count": null,
      "metadata": {
        "id": "8JEOU7yW5zjc"
      },
      "outputs": [],
      "source": [
        "explanatory_variables = ['Intercept','Rating', 'Runtime', 'Gross', 'Votes', 'Action', 'Comedy', 'Horror']\n",
        "response_variable = 'Metascore'"
      ]
    },
    {
      "cell_type": "code",
      "execution_count": null,
      "metadata": {
        "id": "2l4F1WfU5zmC"
      },
      "outputs": [],
      "source": [
        "df_X = df_with_dummy[explanatory_variables]\n",
        "df_y = df_with_dummy[response_variable]"
      ]
    },
    {
      "cell_type": "code",
      "execution_count": null,
      "metadata": {
        "colab": {
          "base_uri": "https://localhost:8080/",
          "height": 424
        },
        "id": "0lgUPmehD98b",
        "outputId": "642f095a-2a3d-4e56-a100-1feb05d8e64d"
      },
      "outputs": [
        {
          "data": {
            "text/html": [
              "\n",
              "  <div id=\"df-5bd9e188-a6fc-4a4a-98dc-42395c5f5a3a\">\n",
              "    <div class=\"colab-df-container\">\n",
              "      <div>\n",
              "<style scoped>\n",
              "    .dataframe tbody tr th:only-of-type {\n",
              "        vertical-align: middle;\n",
              "    }\n",
              "\n",
              "    .dataframe tbody tr th {\n",
              "        vertical-align: top;\n",
              "    }\n",
              "\n",
              "    .dataframe thead th {\n",
              "        text-align: right;\n",
              "    }\n",
              "</style>\n",
              "<table border=\"1\" class=\"dataframe\">\n",
              "  <thead>\n",
              "    <tr style=\"text-align: right;\">\n",
              "      <th></th>\n",
              "      <th>Intercept</th>\n",
              "      <th>Rating</th>\n",
              "      <th>Runtime</th>\n",
              "      <th>Gross</th>\n",
              "      <th>Votes</th>\n",
              "      <th>Action</th>\n",
              "      <th>Comedy</th>\n",
              "      <th>Horror</th>\n",
              "    </tr>\n",
              "  </thead>\n",
              "  <tbody>\n",
              "    <tr>\n",
              "      <th>0</th>\n",
              "      <td>1</td>\n",
              "      <td>9.3</td>\n",
              "      <td>142.0</td>\n",
              "      <td>28340000.0</td>\n",
              "      <td>1695366.0</td>\n",
              "      <td>0</td>\n",
              "      <td>0</td>\n",
              "      <td>0</td>\n",
              "    </tr>\n",
              "    <tr>\n",
              "      <th>1</th>\n",
              "      <td>1</td>\n",
              "      <td>9.0</td>\n",
              "      <td>152.0</td>\n",
              "      <td>533320000.0</td>\n",
              "      <td>1682554.0</td>\n",
              "      <td>1</td>\n",
              "      <td>0</td>\n",
              "      <td>0</td>\n",
              "    </tr>\n",
              "    <tr>\n",
              "      <th>2</th>\n",
              "      <td>1</td>\n",
              "      <td>8.8</td>\n",
              "      <td>148.0</td>\n",
              "      <td>292570000.0</td>\n",
              "      <td>1473753.0</td>\n",
              "      <td>1</td>\n",
              "      <td>0</td>\n",
              "      <td>0</td>\n",
              "    </tr>\n",
              "    <tr>\n",
              "      <th>3</th>\n",
              "      <td>1</td>\n",
              "      <td>8.8</td>\n",
              "      <td>139.0</td>\n",
              "      <td>37020000.0</td>\n",
              "      <td>1352395.0</td>\n",
              "      <td>0</td>\n",
              "      <td>0</td>\n",
              "      <td>0</td>\n",
              "    </tr>\n",
              "    <tr>\n",
              "      <th>4</th>\n",
              "      <td>1</td>\n",
              "      <td>8.9</td>\n",
              "      <td>154.0</td>\n",
              "      <td>107930000.0</td>\n",
              "      <td>1329035.0</td>\n",
              "      <td>0</td>\n",
              "      <td>0</td>\n",
              "      <td>0</td>\n",
              "    </tr>\n",
              "    <tr>\n",
              "      <th>...</th>\n",
              "      <td>...</td>\n",
              "      <td>...</td>\n",
              "      <td>...</td>\n",
              "      <td>...</td>\n",
              "      <td>...</td>\n",
              "      <td>...</td>\n",
              "      <td>...</td>\n",
              "      <td>...</td>\n",
              "    </tr>\n",
              "    <tr>\n",
              "      <th>9971</th>\n",
              "      <td>1</td>\n",
              "      <td>3.9</td>\n",
              "      <td>118.0</td>\n",
              "      <td>2030000.0</td>\n",
              "      <td>4156.0</td>\n",
              "      <td>0</td>\n",
              "      <td>0</td>\n",
              "      <td>0</td>\n",
              "    </tr>\n",
              "    <tr>\n",
              "      <th>9976</th>\n",
              "      <td>1</td>\n",
              "      <td>6.8</td>\n",
              "      <td>98.0</td>\n",
              "      <td>10000.0</td>\n",
              "      <td>4152.0</td>\n",
              "      <td>0</td>\n",
              "      <td>0</td>\n",
              "      <td>0</td>\n",
              "    </tr>\n",
              "    <tr>\n",
              "      <th>9986</th>\n",
              "      <td>1</td>\n",
              "      <td>6.3</td>\n",
              "      <td>88.0</td>\n",
              "      <td>410000.0</td>\n",
              "      <td>4149.0</td>\n",
              "      <td>0</td>\n",
              "      <td>1</td>\n",
              "      <td>0</td>\n",
              "    </tr>\n",
              "    <tr>\n",
              "      <th>9993</th>\n",
              "      <td>1</td>\n",
              "      <td>7.4</td>\n",
              "      <td>134.0</td>\n",
              "      <td>450000.0</td>\n",
              "      <td>4144.0</td>\n",
              "      <td>0</td>\n",
              "      <td>0</td>\n",
              "      <td>0</td>\n",
              "    </tr>\n",
              "    <tr>\n",
              "      <th>9995</th>\n",
              "      <td>1</td>\n",
              "      <td>6.4</td>\n",
              "      <td>89.0</td>\n",
              "      <td>670000.0</td>\n",
              "      <td>4141.0</td>\n",
              "      <td>0</td>\n",
              "      <td>1</td>\n",
              "      <td>0</td>\n",
              "    </tr>\n",
              "  </tbody>\n",
              "</table>\n",
              "<p>5131 rows × 8 columns</p>\n",
              "</div>\n",
              "      <button class=\"colab-df-convert\" onclick=\"convertToInteractive('df-5bd9e188-a6fc-4a4a-98dc-42395c5f5a3a')\"\n",
              "              title=\"Convert this dataframe to an interactive table.\"\n",
              "              style=\"display:none;\">\n",
              "        \n",
              "  <svg xmlns=\"http://www.w3.org/2000/svg\" height=\"24px\"viewBox=\"0 0 24 24\"\n",
              "       width=\"24px\">\n",
              "    <path d=\"M0 0h24v24H0V0z\" fill=\"none\"/>\n",
              "    <path d=\"M18.56 5.44l.94 2.06.94-2.06 2.06-.94-2.06-.94-.94-2.06-.94 2.06-2.06.94zm-11 1L8.5 8.5l.94-2.06 2.06-.94-2.06-.94L8.5 2.5l-.94 2.06-2.06.94zm10 10l.94 2.06.94-2.06 2.06-.94-2.06-.94-.94-2.06-.94 2.06-2.06.94z\"/><path d=\"M17.41 7.96l-1.37-1.37c-.4-.4-.92-.59-1.43-.59-.52 0-1.04.2-1.43.59L10.3 9.45l-7.72 7.72c-.78.78-.78 2.05 0 2.83L4 21.41c.39.39.9.59 1.41.59.51 0 1.02-.2 1.41-.59l7.78-7.78 2.81-2.81c.8-.78.8-2.07 0-2.86zM5.41 20L4 18.59l7.72-7.72 1.47 1.35L5.41 20z\"/>\n",
              "  </svg>\n",
              "      </button>\n",
              "      \n",
              "  <style>\n",
              "    .colab-df-container {\n",
              "      display:flex;\n",
              "      flex-wrap:wrap;\n",
              "      gap: 12px;\n",
              "    }\n",
              "\n",
              "    .colab-df-convert {\n",
              "      background-color: #E8F0FE;\n",
              "      border: none;\n",
              "      border-radius: 50%;\n",
              "      cursor: pointer;\n",
              "      display: none;\n",
              "      fill: #1967D2;\n",
              "      height: 32px;\n",
              "      padding: 0 0 0 0;\n",
              "      width: 32px;\n",
              "    }\n",
              "\n",
              "    .colab-df-convert:hover {\n",
              "      background-color: #E2EBFA;\n",
              "      box-shadow: 0px 1px 2px rgba(60, 64, 67, 0.3), 0px 1px 3px 1px rgba(60, 64, 67, 0.15);\n",
              "      fill: #174EA6;\n",
              "    }\n",
              "\n",
              "    [theme=dark] .colab-df-convert {\n",
              "      background-color: #3B4455;\n",
              "      fill: #D2E3FC;\n",
              "    }\n",
              "\n",
              "    [theme=dark] .colab-df-convert:hover {\n",
              "      background-color: #434B5C;\n",
              "      box-shadow: 0px 1px 3px 1px rgba(0, 0, 0, 0.15);\n",
              "      filter: drop-shadow(0px 1px 2px rgba(0, 0, 0, 0.3));\n",
              "      fill: #FFFFFF;\n",
              "    }\n",
              "  </style>\n",
              "\n",
              "      <script>\n",
              "        const buttonEl =\n",
              "          document.querySelector('#df-5bd9e188-a6fc-4a4a-98dc-42395c5f5a3a button.colab-df-convert');\n",
              "        buttonEl.style.display =\n",
              "          google.colab.kernel.accessAllowed ? 'block' : 'none';\n",
              "\n",
              "        async function convertToInteractive(key) {\n",
              "          const element = document.querySelector('#df-5bd9e188-a6fc-4a4a-98dc-42395c5f5a3a');\n",
              "          const dataTable =\n",
              "            await google.colab.kernel.invokeFunction('convertToInteractive',\n",
              "                                                     [key], {});\n",
              "          if (!dataTable) return;\n",
              "\n",
              "          const docLinkHtml = 'Like what you see? Visit the ' +\n",
              "            '<a target=\"_blank\" href=https://colab.research.google.com/notebooks/data_table.ipynb>data table notebook</a>'\n",
              "            + ' to learn more about interactive tables.';\n",
              "          element.innerHTML = '';\n",
              "          dataTable['output_type'] = 'display_data';\n",
              "          await google.colab.output.renderOutput(dataTable, element);\n",
              "          const docLink = document.createElement('div');\n",
              "          docLink.innerHTML = docLinkHtml;\n",
              "          element.appendChild(docLink);\n",
              "        }\n",
              "      </script>\n",
              "    </div>\n",
              "  </div>\n",
              "  "
            ],
            "text/plain": [
              "      Intercept  Rating  Runtime        Gross      Votes  Action  Comedy  \\\n",
              "0             1     9.3    142.0   28340000.0  1695366.0       0       0   \n",
              "1             1     9.0    152.0  533320000.0  1682554.0       1       0   \n",
              "2             1     8.8    148.0  292570000.0  1473753.0       1       0   \n",
              "3             1     8.8    139.0   37020000.0  1352395.0       0       0   \n",
              "4             1     8.9    154.0  107930000.0  1329035.0       0       0   \n",
              "...         ...     ...      ...          ...        ...     ...     ...   \n",
              "9971          1     3.9    118.0    2030000.0     4156.0       0       0   \n",
              "9976          1     6.8     98.0      10000.0     4152.0       0       0   \n",
              "9986          1     6.3     88.0     410000.0     4149.0       0       1   \n",
              "9993          1     7.4    134.0     450000.0     4144.0       0       0   \n",
              "9995          1     6.4     89.0     670000.0     4141.0       0       1   \n",
              "\n",
              "      Horror  \n",
              "0          0  \n",
              "1          0  \n",
              "2          0  \n",
              "3          0  \n",
              "4          0  \n",
              "...      ...  \n",
              "9971       0  \n",
              "9976       0  \n",
              "9986       0  \n",
              "9993       0  \n",
              "9995       0  \n",
              "\n",
              "[5131 rows x 8 columns]"
            ]
          },
          "execution_count": 230,
          "metadata": {},
          "output_type": "execute_result"
        }
      ],
      "source": [
        "df_X"
      ]
    },
    {
      "cell_type": "code",
      "execution_count": null,
      "metadata": {
        "colab": {
          "base_uri": "https://localhost:8080/"
        },
        "id": "K727f_PY5zop",
        "outputId": "f609ac7b-f81b-49c0-dc26-e12369d5a328"
      },
      "outputs": [
        {
          "data": {
            "text/plain": [
              "0       80.0\n",
              "1       82.0\n",
              "2       74.0\n",
              "3       66.0\n",
              "4       94.0\n",
              "        ... \n",
              "9971    42.0\n",
              "9976    68.0\n",
              "9986    56.0\n",
              "9993    88.0\n",
              "9995    62.0\n",
              "Name: Metascore, Length: 5131, dtype: float64"
            ]
          },
          "execution_count": 231,
          "metadata": {},
          "output_type": "execute_result"
        }
      ],
      "source": [
        "df_y"
      ]
    },
    {
      "cell_type": "code",
      "execution_count": null,
      "metadata": {
        "id": "LNyqQYzj5zre"
      },
      "outputs": [],
      "source": [
        "mul_reg = sm.OLS(df_y, df_X, missing='drop').fit()"
      ]
    },
    {
      "cell_type": "code",
      "execution_count": null,
      "metadata": {
        "colab": {
          "base_uri": "https://localhost:8080/"
        },
        "id": "lNa3nSj35zuW",
        "outputId": "90c56128-db76-458a-a2d8-5a47613fded0"
      },
      "outputs": [
        {
          "name": "stdout",
          "output_type": "stream",
          "text": [
            "                            OLS Regression Results                            \n",
            "==============================================================================\n",
            "Dep. Variable:              Metascore   R-squared:                       0.550\n",
            "Model:                            OLS   Adj. R-squared:                  0.549\n",
            "Method:                 Least Squares   F-statistic:                     894.7\n",
            "Date:                Thu, 27 Oct 2022   Prob (F-statistic):               0.00\n",
            "Time:                        02:18:15   Log-Likelihood:                -20043.\n",
            "No. Observations:                5131   AIC:                         4.010e+04\n",
            "Df Residuals:                    5123   BIC:                         4.015e+04\n",
            "Df Model:                           7                                         \n",
            "Covariance Type:            nonrobust                                         \n",
            "==============================================================================\n",
            "                 coef    std err          t      P>|t|      [0.025      0.975]\n",
            "------------------------------------------------------------------------------\n",
            "Intercept    -28.3638      1.628    -17.420      0.000     -31.556     -25.172\n",
            "Rating        13.2710      0.207     64.201      0.000      12.866      13.676\n",
            "Runtime       -0.0114      0.011     -1.082      0.279      -0.032       0.009\n",
            "Gross       1.089e-08   3.49e-09      3.125      0.002    4.06e-09    1.77e-08\n",
            "Votes      -6.293e-06    1.8e-06     -3.503      0.000   -9.81e-06   -2.77e-06\n",
            "Action        -4.0055      0.459     -8.728      0.000      -4.905      -3.106\n",
            "Comedy        -1.0279      0.386     -2.663      0.008      -1.785      -0.271\n",
            "Horror        -1.3484      0.642     -2.099      0.036      -2.607      -0.089\n",
            "==============================================================================\n",
            "Omnibus:                       33.975   Durbin-Watson:                   2.006\n",
            "Prob(Omnibus):                  0.000   Jarque-Bera (JB):               34.486\n",
            "Skew:                          -0.196   Prob(JB):                     3.25e-08\n",
            "Kurtosis:                       3.086   Cond. No.                     7.58e+08\n",
            "==============================================================================\n",
            "\n",
            "Notes:\n",
            "[1] Standard Errors assume that the covariance matrix of the errors is correctly specified.\n",
            "[2] The condition number is large, 7.58e+08. This might indicate that there are\n",
            "strong multicollinearity or other numerical problems.\n"
          ]
        }
      ],
      "source": [
        "print(mul_reg.summary())"
      ]
    },
    {
      "cell_type": "markdown",
      "metadata": {
        "id": "pah8OoxcEo8J"
      },
      "source": [
        "### The R squared value is  0.550\n",
        "### The quation is Metascore = -28.3638 + (113.2710 * Rating) - (0.0114 * Runtime) + (1.089e-08 * Gross) - (6.293e-06 * Votes) - (4.0055 * Action) - (1.0279 * Comedy) - (1.3484 * Horror)\n",
        "### The exploratory variables that have a statistically significant relationship with Metascore are - Intercept, Rating, Gross, Votes, Action, Comedy, and Horror.\n"
      ]
    },
    {
      "cell_type": "code",
      "execution_count": null,
      "metadata": {
        "colab": {
          "base_uri": "https://localhost:8080/"
        },
        "id": "4mG9WG-AEdOO",
        "outputId": "fe56171e-202b-49cc-973c-66a73a2aef12"
      },
      "outputs": [
        {
          "name": "stdout",
          "output_type": "stream",
          "text": [
            "Predicted metascore for the movie:  [60.98314331]\n"
          ]
        }
      ],
      "source": [
        "# Metascore prediction for the movie\n",
        "movie1 = [1, 6.9, 100, 3000000.0, 14000, 0, 1, 0]\n",
        "print(\"Predicted metascore for the movie: \",mul_reg.predict(movie1))"
      ]
    },
    {
      "cell_type": "code",
      "execution_count": null,
      "metadata": {
        "colab": {
          "base_uri": "https://localhost:8080/"
        },
        "id": "A3Cd7HxQEdRj",
        "outputId": "6a44dbaa-6f68-4b64-aa9d-4ae6a442aedc"
      },
      "outputs": [
        {
          "name": "stdout",
          "output_type": "stream",
          "text": [
            "Predicted metascore for the movie:  [60.6626584]\n"
          ]
        }
      ],
      "source": [
        "#Metascore prediction for the same movie in horror genre\n",
        "movie1 = [1, 6.9, 100, 3000000.0, 14000, 0, 0, 1]\n",
        "print(\"Predicted metascore for the movie: \",mul_reg.predict(movie1))"
      ]
    }
  ],
  "metadata": {
    "colab": {
      "collapsed_sections": [
        "80uxJzySV-4I",
        "roNr2Y6ftBWT",
        "BAvll-BdvIvW",
        "n9sAxDke5Eai"
      ],
      "provenance": []
    },
    "kernelspec": {
      "display_name": "Python 3",
      "name": "python3"
    },
    "language_info": {
      "codemirror_mode": {
        "name": "ipython",
        "version": 3
      },
      "file_extension": ".py",
      "mimetype": "text/x-python",
      "name": "python",
      "nbconvert_exporter": "python",
      "pygments_lexer": "ipython3",
      "version": "3.11.3"
    }
  },
  "nbformat": 4,
  "nbformat_minor": 0
}
